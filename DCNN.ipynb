{
  "nbformat": 4,
  "nbformat_minor": 0,
  "metadata": {
    "colab": {
      "name": "DCNN.ipynb",
      "provenance": [],
      "authorship_tag": "ABX9TyPB3yJy+SMHh1DCU1+K8att",
      "include_colab_link": true
    },
    "kernelspec": {
      "name": "python3",
      "display_name": "Python 3"
    }
  },
  "cells": [
    {
      "cell_type": "markdown",
      "metadata": {
        "id": "view-in-github",
        "colab_type": "text"
      },
      "source": [
        "<a href=\"https://colab.research.google.com/github/JDslay/LKA/blob/main/DCNN.ipynb\" target=\"_parent\"><img src=\"https://colab.research.google.com/assets/colab-badge.svg\" alt=\"Open In Colab\"/></a>"
      ]
    },
    {
      "cell_type": "markdown",
      "metadata": {
        "id": "fitpwr28S_Ku"
      },
      "source": [
        "# Finetuning of pretrained AlexNet (on ImageNet-Dataset) with Tobacco3482-Dataset \r\n",
        "Initially the AlexNet was trained with the purpose of classifying images into 1000 categories like cat and dog.\r\n",
        "This notebook retraines the last fully connected layer of AlexNet on images of documents to categorize 10 classes (ADVE, Email, Form, Letter, Memo, News, Note, Report, Resume, Scientific)"
      ]
    },
    {
      "cell_type": "markdown",
      "metadata": {
        "id": "-btsG8ZJWoIU"
      },
      "source": [
        "In the import section the file for plotting the confusion matrix is imported from my Github-Repository."
      ]
    },
    {
      "cell_type": "code",
      "metadata": {
        "id": "LomxrVtBG5At"
      },
      "source": [
        "import torch\r\n",
        "import torchvision\r\n",
        "import torchvision.transforms as transforms\r\n",
        "from torchvision import models\r\n",
        "import torch.nn as nn\r\n",
        "import torch.optim as optim\r\n",
        "import torch.nn.functional as F\r\n",
        "import matplotlib.pyplot as plt\r\n",
        "from sklearn.metrics import confusion_matrix\r\n",
        "import httpimport\r\n",
        "url = \"https://raw.githubusercontent.com/JDslay/LKA/main/resources\"     # from deeplizard.com respectively scikit-learn.org\r\n",
        "with httpimport.remote_repo([\"plotcm\"], url):\r\n",
        "    import plotcm                                        \r\n",
        "import time\r\n",
        "import progressbar"
      ],
      "execution_count": 2,
      "outputs": []
    },
    {
      "cell_type": "markdown",
      "metadata": {
        "id": "tfzj1aObBvP2"
      },
      "source": [
        "For testing purposes, data of my Google Drive have been mounted"
      ]
    },
    {
      "cell_type": "code",
      "metadata": {
        "colab": {
          "base_uri": "https://localhost:8080/"
        },
        "id": "OfUj9UoeBny7",
        "outputId": "532d0584-cc1f-4c4a-d664-da4bfdbbea56"
      },
      "source": [
        "from google.colab import drive\r\n",
        "drive.mount('/content/drive')  "
      ],
      "execution_count": 1,
      "outputs": [
        {
          "output_type": "stream",
          "text": [
            "Mounted at /content/drive\n"
          ],
          "name": "stdout"
        }
      ]
    },
    {
      "cell_type": "markdown",
      "metadata": {
        "id": "lSO3esQZXbk2"
      },
      "source": [
        "Later used functions for the evaluation of the model have to be initialized"
      ]
    },
    {
      "cell_type": "code",
      "metadata": {
        "id": "Ii8IbRbFJTnu"
      },
      "source": [
        "# All predictions in one tensor\r\n",
        "@torch.no_grad()                                                        # gradients not needed while evaluation / saves memory if turned off\r\n",
        "def get_all_preds(model, loader):\r\n",
        "    all_preds = torch.tensor([])\r\n",
        "    for batch in loader:\r\n",
        "        images, labels = batch\r\n",
        "        preds = model(images)\r\n",
        "        all_preds = torch.cat((all_preds, preds), dim=0)\r\n",
        "    return all_preds\r\n",
        "\r\n",
        "# Number of correct predictions\r\n",
        "def get_nbr_correct_predicted(preds, labels):\r\n",
        "    return preds.argmax(dim=1).eq(labels).sum().item()"
      ],
      "execution_count": 3,
      "outputs": []
    },
    {
      "cell_type": "markdown",
      "metadata": {
        "id": "1Fq1x8ppHqV5"
      },
      "source": [
        "# Load the training and validation datasets, prepare the data and initialize a data-loader for ease of handling data\r\n",
        "The datastructure is essential. For example, if training the model with 100 images of each of the 10 classes, a folder 'train' with 10 subfolders, each including 100 samples, is crucial.\r\n"
      ]
    },
    {
      "cell_type": "code",
      "metadata": {
        "id": "YxNrk1xeJxOV"
      },
      "source": [
        "# load data and prepare\r\n",
        "train_set = torchvision.datasets.ImageFolder(\r\n",
        "    root='/content/drive/MyDrive/ColabNotebooks/data/100_tobacco/train', transform=transforms.Compose([\r\n",
        "        transforms.Resize((227, 227)),\r\n",
        "        transforms.ToTensor(),\r\n",
        "        transforms.Normalize([0.485, 0.456, 0.406], [0.229, 0.224, 0.225])\r\n",
        "    ])\r\n",
        ")\r\n",
        "val_set = torchvision.datasets.ImageFolder(\r\n",
        "        root='/content/drive/MyDrive/ColabNotebooks/data/100_tobacco/val', transform=transforms.Compose([\r\n",
        "            transforms.Resize((227, 227)),\r\n",
        "            transforms.ToTensor(),\r\n",
        "            transforms.Normalize([0.485, 0.456, 0.406], [0.229, 0.224, 0.225])\r\n",
        "        ])\r\n",
        "    )\r\n",
        "batchSze = 10               # also needed later in calculation of preogress bar\r\n",
        "train_loader = torch.utils.data.DataLoader(train_set, batch_size=batchSze, shuffle=True)  # getting shuffeled batches out of dataset\r\n",
        "val_loader = torch.utils.data.DataLoader(val_set, batch_size=100)                   # no shuffling needed for evaluation"
      ],
      "execution_count": 18,
      "outputs": []
    },
    {
      "cell_type": "markdown",
      "metadata": {
        "id": "taxdoNkoa5Bl"
      },
      "source": [
        "# Get the pretrained AlexNet model and prepare for retraining"
      ]
    },
    {
      "cell_type": "code",
      "metadata": {
        "id": "h3B80nnzKViD"
      },
      "source": [
        "# load pretrained alexnet and prepare for finetuning\r\n",
        "alexNetMod = models.alexnet(pretrained=True)\r\n",
        "\r\n",
        "# freeze parameters\r\n",
        "for param in alexNetMod.parameters():\r\n",
        "    param.requires_grad = False\r\n",
        "\r\n",
        "# change last fully connected layer with new linear layer and 10 outputs\r\n",
        "alexNetMod.classifier[6] = nn.Linear(4096, 10)"
      ],
      "execution_count": null,
      "outputs": []
    },
    {
      "cell_type": "markdown",
      "metadata": {
        "id": "ctfzv0PibLkM"
      },
      "source": [
        "# Retrain the last fully connected layer of the modified AlexNet"
      ]
    },
    {
      "cell_type": "code",
      "metadata": {
        "id": "wvkAuzleLTIL"
      },
      "source": [
        "# TRAIN MODEL\r\n",
        "optimizer = optim.SGD(alexNetMod.parameters(), lr=0.0001,momentum=0.9, weight_decay=0.0005)   # optimizer proposed in the original document\r\n",
        "epochs = 15\r\n",
        "\r\n",
        "# Progression Bar\r\n",
        "bar = progressbar.ProgressBar(max_value=len(train_set)/batchSze*epochs)\r\n",
        "i = 0\r\n",
        "\r\n",
        "# Training Loop\r\n",
        "for epoch in range(epochs):\r\n",
        "    total_loss = 0\r\n",
        "    total_correct = 0\r\n",
        "    for batch in train_loader:                  # Get Batch of training data\r\n",
        "        images, labels = batch                  # unpack batch\r\n",
        "        preds = alexNetMod(images)              # pass Batch to Model\r\n",
        "        loss = F.cross_entropy(preds, labels)   # calculate Loss\r\n",
        "        optimizer.zero_grad()                   # set gradients to zero / if not, they will be added up  \r\n",
        "        loss.backward()                         # calculate gradients (Backpropagation)\r\n",
        "        optimizer.step()                        # Updating weights by moving one step defined in learning rate\r\n",
        "        \r\n",
        "        # show progress of training visually and numercally  \r\n",
        "        bar.update(i)\r\n",
        "        i+=1\r\n",
        "        total_loss += loss.item()                \r\n",
        "        total_correct += get_nbr_correct_predicted(preds, labels)   \r\n",
        "    print('   epoch:', epoch, 'total_correct:',total_correct, \"loss:\", total_loss)\r\n",
        "\r\n",
        "# show results of Training Loop\r\n",
        "correct_train_perc = 100*total_correct/len(train_set)\r\n",
        "print('percentage of correct predictions within training', correct_train_perc)"
      ],
      "execution_count": null,
      "outputs": []
    },
    {
      "cell_type": "markdown",
      "metadata": {
        "id": "TyqRTUEweo6Z"
      },
      "source": [
        "# Evaluate the retrained Model\r\n",
        "The trained model will be tested with validation data, the model has not seen yet"
      ]
    },
    {
      "cell_type": "code",
      "metadata": {
        "id": "0akFqsH0LsaU"
      },
      "source": [
        "# Predict all remaining images\r\n",
        "val_preds = get_all_preds(alexNetMod, val_loader)"
      ],
      "execution_count": 7,
      "outputs": []
    },
    {
      "cell_type": "code",
      "metadata": {
        "id": "p19D1OI0xgCQ"
      },
      "source": [
        "# print number of correct predictions and accuracy \r\n",
        "labeltensor = torch.tensor(val_set.targets)\r\n",
        "preds_correct = get_nbr_correct_predicted(val_preds, labeltensor)\r\n",
        "print('total correct:', preds_correct, 'out of ', len(val_set), 'documents')\r\n",
        "print('accuracy: ', 100*preds_correct / len(val_set), '%')"
      ],
      "execution_count": null,
      "outputs": []
    },
    {
      "cell_type": "code",
      "metadata": {
        "id": "Q2Wwd1QEwt5M"
      },
      "source": [
        "# Show confusion matrix\r\n",
        "cm = confusion_matrix(labeltensor, val_preds.argmax(dim=1))\r\n",
        "names = ('ADVE', 'Email', 'Form', 'Letter', 'Memo',\r\n",
        "         'News', 'Note', 'Report', 'Resume', 'Scientific')\r\n",
        "plt.figure(figsize=(10, 10))\r\n",
        "plotcm.plot_confusion_matrix(cm, names, normalize=True)"
      ],
      "execution_count": null,
      "outputs": []
    },
    {
      "cell_type": "markdown",
      "metadata": {
        "id": "MkONVPtcTi-W"
      },
      "source": [
        "# Plot the results when using different amounts of input samples for training\r\n",
        "The analysis has been done locally. This shows only the results"
      ]
    },
    {
      "cell_type": "code",
      "metadata": {
        "colab": {
          "base_uri": "https://localhost:8080/",
          "height": 283
        },
        "id": "w8Ds2RzATidN",
        "outputId": "7e5a9d2c-e194-4ecb-eaea-51f431b1d0b2"
      },
      "source": [
        "import numpy as np\r\n",
        "binSize = np.array([20,40,60,80,100])\r\n",
        "accuracy = np.array([34.4,49.2,49.8,48.7,47.2])\r\n",
        "plt.plot(binSize,accuracy,'bo')\r\n",
        "plt.plot(binSize,accuracy)\r\n",
        "#-- add a annotations\r\n",
        "plt.xlabel('Number of training samples')\r\n",
        "plt.ylabel('Accuracy in %')\r\n",
        "plt.axis([0,120,0,60])\r\n",
        "plt.grid(True)"
      ],
      "execution_count": 20,
      "outputs": [
        {
          "output_type": "display_data",
          "data": {
            "image/png": "[encoded data removed]",
            "text/plain": [
              "<Figure size 432x288 with 1 Axes>"
            ]
          },
          "metadata": {
            "tags": [],
            "needs_background": "light"
          }
        }
      ]
    }
  ]
}