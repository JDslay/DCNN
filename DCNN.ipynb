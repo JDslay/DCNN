{
  "nbformat": 4,
  "nbformat_minor": 0,
  "metadata": {
    "colab": {
      "name": "DCNN.ipynb",
      "provenance": [],
      "authorship_tag": "ABX9TyM/okLSUjdShue5w+x9BrS6",
      "include_colab_link": true
    },
    "kernelspec": {
      "name": "python3",
      "display_name": "Python 3"
    }
  },
  "cells": [
    {
      "cell_type": "markdown",
      "metadata": {
        "id": "view-in-github",
        "colab_type": "text"
      },
      "source": [
        "<a href=\"https://colab.research.google.com/github/JDslay/LKA/blob/main/DCNN.ipynb\" target=\"_parent\"><img src=\"https://colab.research.google.com/assets/colab-badge.svg\" alt=\"Open In Colab\"/></a>"
      ]
    },
    {
      "cell_type": "code",
      "metadata": {
        "id": "LomxrVtBG5At"
      },
      "source": [
        "import torch\r\n",
        "import torchvision\r\n",
        "import torchvision.transforms as transforms\r\n",
        "from torchvision import models\r\n",
        "import torch.nn as nn\r\n",
        "import torch.optim as optim\r\n",
        "import torch.nn.functional as F"
      ],
      "execution_count": 1,
      "outputs": []
    },
    {
      "cell_type": "code",
      "metadata": {
        "id": "Ii8IbRbFJTnu"
      },
      "source": [
        "# some functions needed for the analysis\r\n",
        "\r\n",
        "# All predictions in one tensor\r\n",
        "@torch.no_grad()  # gradients not needed while evaluation / saves memory if turned off\r\n",
        "def get_all_preds(model, loader):\r\n",
        "    all_preds = torch.tensor([])\r\n",
        "    for batch in loader:\r\n",
        "        images, labels = batch\r\n",
        "        preds = model(images)\r\n",
        "        all_preds = torch.cat((all_preds, preds), dim=0)\r\n",
        "    return all_preds\r\n",
        "\r\n",
        "# Number of correct predictions\r\n",
        "def get_nbr_correct_predicted(preds, labels):\r\n",
        "    return preds.argmax(dim=1).eq(labels).sum().item()"
      ],
      "execution_count": null,
      "outputs": []
    },
    {
      "cell_type": "code",
      "metadata": {
        "id": "YxNrk1xeJxOV"
      },
      "source": [
        "# load data and prepare\r\n",
        "\r\n",
        "train_set = torchvision.datasets.ImageFolder(\r\n",
        "    root='./data/40_tobacco/train', transform=transforms.Compose([\r\n",
        "        transforms.Resize((227, 227)),\r\n",
        "        transforms.ToTensor(),\r\n",
        "        transforms.Normalize([0.485, 0.456, 0.406], [0.229, 0.224, 0.225])\r\n",
        "    ])\r\n",
        ")\r\n",
        "train_loader = torch.utils.data.DataLoader(train_set, batch_size=10)  # getting batches out of dataset"
      ],
      "execution_count": null,
      "outputs": []
    },
    {
      "cell_type": "code",
      "metadata": {
        "id": "h3B80nnzKViD"
      },
      "source": [
        "# load pretrained alexnet and prepare for finetuning\r\n",
        "\r\n",
        "alexNetMod = models.alexnet(pretrained=True)\r\n",
        "\r\n",
        "# freeze parameters\r\n",
        "for param in alexNetMod.parameters():\r\n",
        "    param.requires_grad = False\r\n",
        "\r\n",
        "# change last fully connected layer with new and 10 outputs\r\n",
        "alexNetMod.classifier[6] = nn.Linear(4096, 10)"
      ],
      "execution_count": null,
      "outputs": []
    },
    {
      "cell_type": "code",
      "metadata": {
        "id": "wvkAuzleLTIL"
      },
      "source": [
        "# TRAIN MODEL\r\n",
        "optimizer = optim.RMSprop(alexNetMod.parameters(\r\n",
        "), lr=0.0001, alpha=0.99, eps=1e-08, weight_decay=0.0005, momentum=0.9, centered=False)\r\n",
        "\r\n",
        "# training loop\r\n",
        "for epoch in range(15):\r\n",
        "    total_loss = 0\r\n",
        "    total_correct = 0\r\n",
        "    for batch in train_loader:                  # Get Batch\r\n",
        "        images, labels = batch\r\n",
        "        preds = alexNetMod(images)                 # Pass Batch\r\n",
        "        loss = F.cross_entropy(preds, labels)   # Calculate Loss\r\n",
        "        optimizer.zero_grad()\r\n",
        "        loss.backward()                         # Calculate Gradient\r\n",
        "        optimizer.step()                        # Updating weights\r\n",
        "        total_loss += loss.item()\r\n",
        "        total_correct += get_num_correct(preds, labels)\r\n",
        "\r\n",
        "    print('epoch:', epoch, 'total_correct:',\r\n",
        "          total_correct, \"loss:\", total_loss)\r\n",
        "\r\n",
        "print(total_correct/len(train_set))"
      ],
      "execution_count": null,
      "outputs": []
    },
    {
      "cell_type": "code",
      "metadata": {
        "id": "0akFqsH0LsaU"
      },
      "source": [
        "# Confusion Matrix\r\n",
        "train_preds = get_all_preds(alexNetMod, train_loader)\r\n",
        "cm = confusion_matrix(torch.tensor(train_set.targets), train_preds.argmax(dim=1))\r\n",
        "names = ('ADVE', 'Email', 'Form', 'Letter', 'Memo',\r\n",
        "         'News', 'Note', 'Report', 'Resume', 'Scientific')\r\n",
        "plt.figure(figsize=(10, 10))\r\n",
        "plot_confusion_matrix(cm, names)\r\n",
        "plt.show()"
      ],
      "execution_count": null,
      "outputs": []
    }
  ]
}